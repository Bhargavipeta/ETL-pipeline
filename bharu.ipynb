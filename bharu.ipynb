{
 "cells": [
  {
   "cell_type": "code",
   "execution_count": 1,
   "id": "ab79d4c8",
   "metadata": {},
   "outputs": [
    {
     "name": "stdout",
     "output_type": "stream",
     "text": [
      "Requirement already satisfied: sqlalchemy in /Users/bhargavipeta/opt/anaconda3/lib/python3.9/site-packages (1.4.32)\n",
      "Requirement already satisfied: psycopg2-binary in /Users/bhargavipeta/opt/anaconda3/lib/python3.9/site-packages (2.9.6)\n",
      "Requirement already satisfied: greenlet!=0.4.17 in /Users/bhargavipeta/opt/anaconda3/lib/python3.9/site-packages (from sqlalchemy) (1.1.1)\n",
      "Note: you may need to restart the kernel to use updated packages.\n"
     ]
    }
   ],
   "source": [
    "pip install sqlalchemy psycopg2-binary"
   ]
  },
  {
   "cell_type": "code",
   "execution_count": 2,
   "id": "5b72bdc2",
   "metadata": {},
   "outputs": [],
   "source": [
    "import pandas as pd\n",
    "from sqlalchemy import create_engine"
   ]
  },
  {
   "cell_type": "code",
   "execution_count": 3,
   "id": "1b64d5b4",
   "metadata": {},
   "outputs": [],
   "source": [
    "db_host='localhost'\n",
    "db_port=5432\n",
    "db_name='covid_19'\n",
    "db_user='postgres'\n",
    "db_password='bharu245'"
   ]
  },
  {
   "cell_type": "code",
   "execution_count": 4,
   "id": "6ee182ac",
   "metadata": {},
   "outputs": [],
   "source": [
    "db_string = f'postgresql://{db_user}:{db_password}@{db_host}:{db_port}/{db_name}'"
   ]
  },
  {
   "cell_type": "code",
   "execution_count": 5,
   "id": "7b863930",
   "metadata": {},
   "outputs": [],
   "source": [
    "engine = create_engine(db_string)\n",
    "connection = engine.connect()"
   ]
  },
  {
   "cell_type": "code",
   "execution_count": 6,
   "id": "ed1f1343",
   "metadata": {},
   "outputs": [
    {
     "name": "stdout",
     "output_type": "stream",
     "text": [
      "200\n"
     ]
    }
   ],
   "source": [
    "import requests\n",
    "import json\n",
    "import pandas as pd\n",
    "response = requests.get('https://opendata.ecdc.europa.eu/covid19/casedistribution/json/')\n",
    "print(response.status_code)\n",
    "json_data = response.json()\n",
    "\n",
    "df_flat=pd.json_normalize(json_data,'records')\n",
    "\n",
    "df=pd.DataFrame(df_flat)\n"
   ]
  },
  {
   "cell_type": "code",
   "execution_count": 7,
   "id": "f489165f",
   "metadata": {},
   "outputs": [
    {
     "name": "stdout",
     "output_type": "stream",
     "text": [
      "          dateRep day month  year  cases  deaths countriesAndTerritories  \\\n",
      "0      14/12/2020  14    12  2020    746       6             Afghanistan   \n",
      "1      13/12/2020  13    12  2020    298       9             Afghanistan   \n",
      "2      12/12/2020  12    12  2020    113      11             Afghanistan   \n",
      "3      11/12/2020  11    12  2020     63      10             Afghanistan   \n",
      "4      10/12/2020  10    12  2020    202      16             Afghanistan   \n",
      "...           ...  ..   ...   ...    ...     ...                     ...   \n",
      "61895  25/03/2020  25    03  2020      0       0                Zimbabwe   \n",
      "61896  24/03/2020  24    03  2020      0       1                Zimbabwe   \n",
      "61897  23/03/2020  23    03  2020      0       0                Zimbabwe   \n",
      "61898  22/03/2020  22    03  2020      1       0                Zimbabwe   \n",
      "61899  21/03/2020  21    03  2020      1       0                Zimbabwe   \n",
      "\n",
      "      geoId countryterritoryCode  popData2019 continentExp  \\\n",
      "0        AF                  AFG   38041757.0         Asia   \n",
      "1        AF                  AFG   38041757.0         Asia   \n",
      "2        AF                  AFG   38041757.0         Asia   \n",
      "3        AF                  AFG   38041757.0         Asia   \n",
      "4        AF                  AFG   38041757.0         Asia   \n",
      "...     ...                  ...          ...          ...   \n",
      "61895    ZW                  ZWE   14645473.0       Africa   \n",
      "61896    ZW                  ZWE   14645473.0       Africa   \n",
      "61897    ZW                  ZWE   14645473.0       Africa   \n",
      "61898    ZW                  ZWE   14645473.0       Africa   \n",
      "61899    ZW                  ZWE   14645473.0       Africa   \n",
      "\n",
      "      Cumulative_number_for_14_days_of_COVID-19_cases_per_100000  \n",
      "0                                             9.01377925          \n",
      "1                                             7.05277624          \n",
      "2                                             6.86876792          \n",
      "3                                             7.13426564          \n",
      "4                                             6.96865815          \n",
      "...                                                  ...          \n",
      "61895                                                             \n",
      "61896                                                             \n",
      "61897                                                             \n",
      "61898                                                             \n",
      "61899                                                             \n",
      "\n",
      "[61900 rows x 12 columns]\n"
     ]
    }
   ],
   "source": [
    "#drop null values\n",
    "df.dropna(axis = 1)\n",
    "print(df)"
   ]
  },
  {
   "cell_type": "code",
   "execution_count": 8,
   "id": "516c6964",
   "metadata": {},
   "outputs": [
    {
     "data": {
      "text/html": [
       "<div>\n",
       "<style scoped>\n",
       "    .dataframe tbody tr th:only-of-type {\n",
       "        vertical-align: middle;\n",
       "    }\n",
       "\n",
       "    .dataframe tbody tr th {\n",
       "        vertical-align: top;\n",
       "    }\n",
       "\n",
       "    .dataframe thead th {\n",
       "        text-align: right;\n",
       "    }\n",
       "</style>\n",
       "<table border=\"1\" class=\"dataframe\">\n",
       "  <thead>\n",
       "    <tr style=\"text-align: right;\">\n",
       "      <th></th>\n",
       "      <th>cases</th>\n",
       "      <th>deaths</th>\n",
       "      <th>popData2019</th>\n",
       "    </tr>\n",
       "  </thead>\n",
       "  <tbody>\n",
       "    <tr>\n",
       "      <th>count</th>\n",
       "      <td>61900.000000</td>\n",
       "      <td>61900.000000</td>\n",
       "      <td>6.177700e+04</td>\n",
       "    </tr>\n",
       "    <tr>\n",
       "      <th>mean</th>\n",
       "      <td>1155.147237</td>\n",
       "      <td>26.055460</td>\n",
       "      <td>4.098770e+07</td>\n",
       "    </tr>\n",
       "    <tr>\n",
       "      <th>std</th>\n",
       "      <td>6779.224479</td>\n",
       "      <td>131.227055</td>\n",
       "      <td>1.531294e+08</td>\n",
       "    </tr>\n",
       "    <tr>\n",
       "      <th>min</th>\n",
       "      <td>-8261.000000</td>\n",
       "      <td>-1918.000000</td>\n",
       "      <td>8.150000e+02</td>\n",
       "    </tr>\n",
       "    <tr>\n",
       "      <th>25%</th>\n",
       "      <td>0.000000</td>\n",
       "      <td>0.000000</td>\n",
       "      <td>1.293120e+06</td>\n",
       "    </tr>\n",
       "    <tr>\n",
       "      <th>50%</th>\n",
       "      <td>15.000000</td>\n",
       "      <td>0.000000</td>\n",
       "      <td>7.169456e+06</td>\n",
       "    </tr>\n",
       "    <tr>\n",
       "      <th>75%</th>\n",
       "      <td>273.000000</td>\n",
       "      <td>4.000000</td>\n",
       "      <td>2.851583e+07</td>\n",
       "    </tr>\n",
       "    <tr>\n",
       "      <th>max</th>\n",
       "      <td>234633.000000</td>\n",
       "      <td>4928.000000</td>\n",
       "      <td>1.433784e+09</td>\n",
       "    </tr>\n",
       "  </tbody>\n",
       "</table>\n",
       "</div>"
      ],
      "text/plain": [
       "               cases        deaths   popData2019\n",
       "count   61900.000000  61900.000000  6.177700e+04\n",
       "mean     1155.147237     26.055460  4.098770e+07\n",
       "std      6779.224479    131.227055  1.531294e+08\n",
       "min     -8261.000000  -1918.000000  8.150000e+02\n",
       "25%         0.000000      0.000000  1.293120e+06\n",
       "50%        15.000000      0.000000  7.169456e+06\n",
       "75%       273.000000      4.000000  2.851583e+07\n",
       "max    234633.000000   4928.000000  1.433784e+09"
      ]
     },
     "execution_count": 8,
     "metadata": {},
     "output_type": "execute_result"
    }
   ],
   "source": [
    "df.describe()"
   ]
  },
  {
   "cell_type": "code",
   "execution_count": 9,
   "id": "e2302524",
   "metadata": {},
   "outputs": [
    {
     "data": {
      "text/plain": [
       "900"
      ]
     },
     "execution_count": 9,
     "metadata": {},
     "output_type": "execute_result"
    }
   ],
   "source": [
    "#load the data to tables\n",
    "df.to_sql('covid_data', connection, if_exists='replace', index=False)"
   ]
  },
  {
   "cell_type": "code",
   "execution_count": 10,
   "id": "ae53ad2f",
   "metadata": {},
   "outputs": [
    {
     "name": "stdout",
     "output_type": "stream",
     "text": [
      "      countriesAndTerritories  cases\n",
      "0                 Afghanistan    746\n",
      "1                 Afghanistan    298\n",
      "2                 Afghanistan    113\n",
      "3                 Afghanistan     63\n",
      "4                 Afghanistan    202\n",
      "...                       ...    ...\n",
      "61895                Zimbabwe      0\n",
      "61896                Zimbabwe      0\n",
      "61897                Zimbabwe      0\n",
      "61898                Zimbabwe      1\n",
      "61899                Zimbabwe      1\n",
      "\n",
      "[61900 rows x 2 columns]\n"
     ]
    }
   ],
   "source": [
    "subset_df = df.loc[:, ['countriesAndTerritories', 'cases']]\n",
    "print(subset_df)"
   ]
  },
  {
   "cell_type": "code",
   "execution_count": 11,
   "id": "66a62d9e",
   "metadata": {},
   "outputs": [
    {
     "data": {
      "image/png": "[encoded data removed]",
      "text/plain": [
       "<Figure size 432x288 with 1 Axes>"
      ]
     },
     "metadata": {
      "needs_background": "light"
     },
     "output_type": "display_data"
    }
   ],
   "source": [
    "#total covid cases tilll now for each country\n",
    "import pandas as pd\n",
    "import matplotlib.pyplot as plt\n",
    "\n",
    "\n",
    "group_cases = subset_df.groupby('countriesAndTerritories').agg({'cases': 'sum'})\n",
    "\n",
    "group_cases.plot(kind='line')\n",
    "plt.xlabel('Countries')\n",
    "plt.ylabel('Total Cases')\n",
    "plt.title('Total Cases till now for each  Country')\n",
    "plt.show()"
   ]
  },
  {
   "cell_type": "code",
   "execution_count": 12,
   "id": "05440600",
   "metadata": {},
   "outputs": [
    {
     "data": {
      "text/plain": [
       "214"
      ]
     },
     "execution_count": 12,
     "metadata": {},
     "output_type": "execute_result"
    }
   ],
   "source": [
    "group_cases.to_sql('total_cases_for_country',connection, if_exists='replace', index=False)"
   ]
  },
  {
   "cell_type": "code",
   "execution_count": 13,
   "id": "6521066b",
   "metadata": {},
   "outputs": [],
   "source": [
    "sorted_df = df.sort_values(by='deaths', ascending=False)"
   ]
  },
  {
   "cell_type": "code",
   "execution_count": 14,
   "id": "ec9716a3",
   "metadata": {},
   "outputs": [
    {
     "data": {
      "image/png": "[encoded data removed]",
      "text/plain": [
       "<Figure size 648x432 with 1 Axes>"
      ]
     },
     "metadata": {
      "needs_background": "light"
     },
     "output_type": "display_data"
    }
   ],
   "source": [
    "# a bar plot showing the top 20 countries with the highest number of deaths. \n",
    "plt.figure(figsize=(9, 6))\n",
    "plt.bar(sorted_df['countriesAndTerritories'].head(20), sorted_df['deaths'].head(20))\n",
    "plt.xlabel('CountryTerritory')\n",
    "plt.ylabel('Number of Deaths')\n",
    "plt.title('Top 20 Countries with Highest Number of Deaths')\n",
    "plt.xticks(rotation=45)\n",
    "plt.show()\n"
   ]
  },
  {
   "cell_type": "code",
   "execution_count": 15,
   "id": "8d983617",
   "metadata": {},
   "outputs": [],
   "source": [
    "sub_df=df.loc[:, ['month', 'cases','deaths']]"
   ]
  },
  {
   "cell_type": "code",
   "execution_count": null,
   "id": "687dde55",
   "metadata": {},
   "outputs": [],
   "source": [
    "\n",
    "# Calculate the number of deaths registered for every case\n",
    "df['deaths_rate_by_case'] = (df['deaths'] / df['cases'])*100\n",
    "\n",
    "df['deaths_rate_population'] = (df['deaths'] / df['popData2019'])*100\n"
   ]
  },
  {
   "cell_type": "code",
   "execution_count": null,
   "id": "db92636a",
   "metadata": {},
   "outputs": [],
   "source": [
    "df_d=df.loc[:, ['countriesAndTerritories', 'cases','deaths','deaths_rate_by_case','deaths_rate_population']]\n",
    "print(df_d)\n",
    "\n",
    "df_d.to_sql('report_death', connection, if_exists='replace', index=False)"
   ]
  },
  {
   "cell_type": "code",
   "execution_count": 31,
   "id": "cda7c11d",
   "metadata": {},
   "outputs": [
    {
     "data": {
      "text/plain": [
       "12"
      ]
     },
     "execution_count": 31,
     "metadata": {},
     "output_type": "execute_result"
    }
   ],
   "source": [
    "covid_cases = df.groupby('month')['cases'].mean().reset_index()\n",
    "sorted_cases = covid_cases.rename(columns={'cases': 'avg_cases'})\n",
    "\n",
    "\n",
    "deaths = df.groupby('month')['deaths'].mean().reset_index()\n",
    "sorted_deaths = deaths.rename(columns={'deaths': 'avg_deaths'})\n",
    "\n",
    "\n",
    "merged_data = pd.merge(sorted_cases, sorted_deaths, on='month', how='outer')\n",
    "\n",
    "\n",
    "merged_data.sort_values(by='month', inplace=True)\n",
    "\n",
    "merged_data.to_sql('monthly_covid_data', connection, if_exists='replace', index=False)"
   ]
  },
  {
   "cell_type": "code",
   "execution_count": 34,
   "id": "96e26717",
   "metadata": {},
   "outputs": [
    {
     "data": {
      "text/plain": [
       "Text(0.5, 1.0, 'average deaths for avg covid cases')"
      ]
     },
     "execution_count": 34,
     "metadata": {},
     "output_type": "execute_result"
    },
    {
     "data": {
      "image/png": "[encoded data removed]",
      "text/plain": [
       "<Figure size 432x288 with 1 Axes>"
      ]
     },
     "metadata": {
      "needs_background": "light"
     },
     "output_type": "display_data"
    }
   ],
   "source": [
    "merged_data.plot(x='avg_cases',y='avg_deaths',kind='bar')\n",
    "plt.title('average deaths for avg covid cases')"
   ]
  },
  {
   "cell_type": "code",
   "execution_count": 35,
   "id": "b4a1e3cc",
   "metadata": {},
   "outputs": [
    {
     "data": {
      "image/png": "[encoded data removed]",
      "text/plain": [
       "<Figure size 720x432 with 1 Axes>"
      ]
     },
     "metadata": {
      "needs_background": "light"
     },
     "output_type": "display_data"
    }
   ],
   "source": [
    "\n",
    "deaths = df.groupby('month')['deaths'].mean().reset_index()\n",
    "\n",
    "sorted_deaths = deaths.sort_values(by='month', ascending=True)\n",
    "\n",
    "plt.figure(figsize=(10, 6))\n",
    "plt.plot(sorted_deaths['month'], sorted_deaths['deaths'], marker='o')\n",
    "plt.xlabel('Month')\n",
    "plt.ylabel('Average Deaths')\n",
    "plt.title('Average Deaths per Month')\n",
    "plt.grid(True)\n",
    "plt.show()\n"
   ]
  },
  {
   "cell_type": "code",
   "execution_count": null,
   "id": "8958cf2f",
   "metadata": {},
   "outputs": [],
   "source": []
  }
 ],
 "metadata": {
  "kernelspec": {
   "display_name": "Python 3 (ipykernel)",
   "language": "python",
   "name": "python3"
  },
  "language_info": {
   "codemirror_mode": {
    "name": "ipython",
    "version": 3
   },
   "file_extension": ".py",
   "mimetype": "text/x-python",
   "name": "python",
   "nbconvert_exporter": "python",
   "pygments_lexer": "ipython3",
   "version": "3.9.12"
  }
 },
 "nbformat": 4,
 "nbformat_minor": 5
}
